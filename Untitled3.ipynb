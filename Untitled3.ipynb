{
 "cells": [
  {
   "cell_type": "markdown",
   "id": "908bcf39",
   "metadata": {},
   "source": [
    "# Homework 1: Bayesian Bandit"
   ]
  },
  {
   "cell_type": "code",
   "execution_count": null,
   "id": "e5805541",
   "metadata": {},
   "outputs": [],
   "source": [
    "from scipy import stats\n",
    "stats.binom(n=1,p=0.5).rvs(size=1)\n",
    "a = stats.bernoulli(p=0.5).rvs(size=1)\n",
    "a[0]"
   ]
  },
  {
   "cell_type": "raw",
   "id": "db42e3cb",
   "metadata": {},
   "source": [
    "1. The Data we are collecting Bernoulli Distributions, or Binomial with n = 1. With theta being predetermined.\n",
    "\n",
    "2. The update for the posterior will be for Alpha and Beta, which I have named alphaa, alphab, alphac and the same for beta.\n",
    "I will update alpha to increase when x = 1, or the Bernoulli Distribution returns 1, and for Beta, I will increase it by n - x, but since n = 1, then we can increase it when x = 0.\n",
    "\n",
    "3. In order to decide which one to pick I have thought of 2 methods. One method is to pick the maximum, however to guarentee that this method works, we need to pick our thetahat, which is our estimate for theta to start at 1, and since we are only picking maximum, thetahat is only a good estimate for the ma value, and a poor estimate for the other 2 thetahats. Another method is to pick by sampling with random probability determined by the current posterior distributions shown below, and this one is much better to determine what the true paramters are, but at the cost of perhaps choosing a suboptimal choice a few times."
   ]
  },
  {
   "cell_type": "code",
   "execution_count": 28,
   "id": "8fa71733",
   "metadata": {},
   "outputs": [
    {
     "name": "stdout",
     "output_type": "stream",
     "text": [
      "I print when `i` is 1\n",
      "I print when `i` is 2\n",
      "I print when `i` is 3\n",
      "I print when `i` is 4\n",
      "I print when `i` is 7\n",
      "I print when `i` is 9\n"
     ]
    }
   ],
   "source": [
    "for i in range(10):\n",
    "    if stats.binom(n=1,p=0.5).rvs(size=1) == 1:\n",
    "        print('I print when `i` is', i)\n"
   ]
  },
  {
   "cell_type": "code",
   "execution_count": 33,
   "id": "396ea4d7",
   "metadata": {},
   "outputs": [
    {
     "data": {
      "text/plain": [
       "0.9999999999999996"
      ]
     },
     "execution_count": 33,
     "metadata": {},
     "output_type": "execute_result"
    }
   ],
   "source": [
    "alpha,beta,n,x=1,1,10,5 # I just made these numbers up\n",
    "beta_distribution = stats.beta(a=1,b=1)\n",
    "beta_distribution.pdf(0.5)\n"
   ]
  },
  {
   "cell_type": "raw",
   "id": "653e7981",
   "metadata": {},
   "source": [
    "So, this is the first method. Notice to start, I picked alpha to be 20, and beta to be 1. So obviously, theta is between 0 and 1, so as you sample more, thetahat, which is the estimated theta through alpha and beta, thetahat will decrease to whatever the true parameter is. While we can pick beta so that it will always start off at 1, picking alpha is dependent on how large the true theta is, with the larger theta is, the larger alpha needs to be to ensure an accurate result. In this simulation, I put my algorithm to the test with 100 simulations, and with probabilities of 0.5,0.6, and 0.8 respectively for a,b,c. When I run it, we can see the results in n1,n2,n3 which are the number of times we played each game a,b,c. We can see that it will always be that c is played most followed by b, as those have the highest probability, so this algorithm works well."
   ]
  },
  {
   "cell_type": "code",
   "execution_count": 445,
   "id": "b117e2c5",
   "metadata": {},
   "outputs": [
    {
     "name": "stdout",
     "output_type": "stream",
     "text": [
      "[16] [13] [971]\n",
      "[0.77142857] [0.78125] [0.79373104]\n"
     ]
    }
   ],
   "source": [
    "n = 0\n",
    "thetaa, thetab, thetac = 0.5, 0.6, 0.8\n",
    "alphaa, alphab, alphac = 20, 20, 20\n",
    "betaa, betab, betac = 1, 1, 1\n",
    "for i in range(1000):\n",
    "    thetahata, thetahatb, thetahatc = (alphaa-1)/(betaa+alphaa-2), (alphab-1)/(betab+alphab-2), (alphac-1)/(betac+alphac-2)\n",
    "    maximum = max(thetahata, thetahatb, thetahatc)\n",
    "    if thetahata == maximum:\n",
    "        x = stats.bernoulli(p=thetaa).rvs(size=1)\n",
    "        alphaa = alphaa+x\n",
    "        betaa = betaa + 1 - x\n",
    "    elif thetahatb == maximum:\n",
    "        x = stats.bernoulli(p=thetab).rvs(size=1)\n",
    "        alphab = alphab+x\n",
    "        betab = betab + 1 - x\n",
    "    else:\n",
    "        x = stats.bernoulli(p=thetac).rvs(size=1)\n",
    "        alphac = alphac+x\n",
    "        betac = betac + 1 - x\n",
    "n1, n2, n3 = betaa + alphaa - 21,betab + alphab - 21, betac + alphac - 21\n",
    "print(n1, n2, n3)\n",
    "print(thetahata, thetahatb, thetahatc)"
   ]
  },
  {
   "cell_type": "raw",
   "id": "1bc69ac0",
   "metadata": {},
   "source": [
    "However, you may notice previous result will always give a bad estimate of theta. This is because to ensure that the max is always picking the right result, we must start at a number higher than the thetas, and we don't know how high that is, but we do know that theta is at most 1, so we set original thetahat to 1. So if we want to estimate what theta is with thetahat, I think better options would be below. Just looking at the thetahats, we are very very close to what I had set, making this a much better solution for estimating the true value of theta."
   ]
  },
  {
   "cell_type": "code",
   "execution_count": 465,
   "id": "e194f1b2",
   "metadata": {},
   "outputs": [
    {
     "name": "stdout",
     "output_type": "stream",
     "text": [
      "[363] [259] [399]\n",
      "[0.88705234] [0.47307692] [0.885]\n"
     ]
    }
   ],
   "source": [
    "import numpy as np;\n",
    "n = 0\n",
    "thetaa, thetab, thetac = 0.9, 0.5, 0.9\n",
    "alphaa, alphab, alphac = 5, 5, 5\n",
    "betaa, betab, betac = 5, 5, 5\n",
    "for i in range(1000):\n",
    "    thetahata, thetahatb, thetahatc = int(alphaa-1)/(betaa+alphaa-2), int(alphab-1)/(betab+alphab-2), int(alphac-1)/(betac+alphac-2)\n",
    "    sum = thetahata + thetahatb + thetahatc\n",
    "    hata, hatb, hatc = thetahata/sum, thetahatb/sum, thetahatc/sum\n",
    "    maximum = np.random.choice(3, 1, p=[float(hata), float(hatb), float(hatc)])\n",
    "    if 0 == maximum:\n",
    "        x = stats.bernoulli(p=thetaa).rvs(size=1)\n",
    "        alphaa = alphaa+x\n",
    "        betaa = betaa + 1 - x\n",
    "    elif 1 == maximum:\n",
    "        x = stats.bernoulli(p=thetab).rvs(size=1)\n",
    "        alphab = alphab+x\n",
    "        betab = betab + 1 - x\n",
    "    else:\n",
    "        x = stats.bernoulli(p=thetac).rvs(size=1)\n",
    "        alphac = alphac+x\n",
    "        betac = betac + 1 - x\n",
    "n1, n2, n3 = betaa + alphaa - 3,betab + alphab - 3, betac + alphac - 3\n",
    "print(n1, n2, n3)\n",
    "print(thetahata, thetahatb, thetahatc)"
   ]
  }
 ],
 "metadata": {
  "kernelspec": {
   "display_name": "Python 3 (ipykernel)",
   "language": "python",
   "name": "python3"
  },
  "language_info": {
   "codemirror_mode": {
    "name": "ipython",
    "version": 3
   },
   "file_extension": ".py",
   "mimetype": "text/x-python",
   "name": "python",
   "nbconvert_exporter": "python",
   "pygments_lexer": "ipython3",
   "version": "3.11.6"
  }
 },
 "nbformat": 4,
 "nbformat_minor": 5
}
